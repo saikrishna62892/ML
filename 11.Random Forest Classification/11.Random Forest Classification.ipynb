{
 "cells": [
  {
   "cell_type": "markdown",
   "metadata": {},
   "source": [
    "### 1.Importing Libraries"
   ]
  },
  {
   "cell_type": "code",
   "execution_count": 1,
   "metadata": {},
   "outputs": [],
   "source": [
    "import numpy as np\n",
    "import pandas as pd\n",
    "import matplotlib.pyplot as plt\n",
    "import matplotlib.axes as ax\n",
    "\n",
    "from sklearn.preprocessing import StandardScaler\n",
    "from sklearn.model_selection import train_test_split\n",
    "from sklearn.ensemble import RandomForestClassifier\n",
    "from sklearn.metrics import confusion_matrix,accuracy_score\n",
    "\n",
    "import seaborn as sns"
   ]
  },
  {
   "cell_type": "markdown",
   "metadata": {},
   "source": [
    "### 2.Loading Data"
   ]
  },
  {
   "cell_type": "code",
   "execution_count": 2,
   "metadata": {},
   "outputs": [
    {
     "data": {
      "text/html": [
       "<div>\n",
       "<style scoped>\n",
       "    .dataframe tbody tr th:only-of-type {\n",
       "        vertical-align: middle;\n",
       "    }\n",
       "\n",
       "    .dataframe tbody tr th {\n",
       "        vertical-align: top;\n",
       "    }\n",
       "\n",
       "    .dataframe thead th {\n",
       "        text-align: right;\n",
       "    }\n",
       "</style>\n",
       "<table border=\"1\" class=\"dataframe\">\n",
       "  <thead>\n",
       "    <tr style=\"text-align: right;\">\n",
       "      <th></th>\n",
       "      <th>repetition_time</th>\n",
       "      <th>study_time</th>\n",
       "      <th>knowledge_level</th>\n",
       "    </tr>\n",
       "  </thead>\n",
       "  <tbody>\n",
       "    <tr>\n",
       "      <th>0</th>\n",
       "      <td>0.00</td>\n",
       "      <td>0.00</td>\n",
       "      <td>Low</td>\n",
       "    </tr>\n",
       "    <tr>\n",
       "      <th>1</th>\n",
       "      <td>0.24</td>\n",
       "      <td>0.90</td>\n",
       "      <td>High</td>\n",
       "    </tr>\n",
       "    <tr>\n",
       "      <th>2</th>\n",
       "      <td>0.25</td>\n",
       "      <td>0.33</td>\n",
       "      <td>Low</td>\n",
       "    </tr>\n",
       "    <tr>\n",
       "      <th>3</th>\n",
       "      <td>0.65</td>\n",
       "      <td>0.30</td>\n",
       "      <td>High</td>\n",
       "    </tr>\n",
       "    <tr>\n",
       "      <th>4</th>\n",
       "      <td>0.98</td>\n",
       "      <td>0.24</td>\n",
       "      <td>Low</td>\n",
       "    </tr>\n",
       "  </tbody>\n",
       "</table>\n",
       "</div>"
      ],
      "text/plain": [
       "   repetition_time  study_time knowledge_level\n",
       "0             0.00        0.00             Low\n",
       "1             0.24        0.90            High\n",
       "2             0.25        0.33             Low\n",
       "3             0.65        0.30            High\n",
       "4             0.98        0.24             Low"
      ]
     },
     "execution_count": 2,
     "metadata": {},
     "output_type": "execute_result"
    }
   ],
   "source": [
    "data = pd.read_csv(r'C:\\Users\\G.SAI KRISHNA\\Desktop\\ML_Projects\\ML_GFG\\11.Random Forest Classification\\study_data.csv')\n",
    "data.head()"
   ]
  },
  {
   "cell_type": "code",
   "execution_count": 3,
   "metadata": {},
   "outputs": [
    {
     "name": "stdout",
     "output_type": "stream",
     "text": [
      "<class 'pandas.core.frame.DataFrame'>\n",
      "RangeIndex: 258 entries, 0 to 257\n",
      "Data columns (total 3 columns):\n",
      " #   Column           Non-Null Count  Dtype  \n",
      "---  ------           --------------  -----  \n",
      " 0   repetition_time  258 non-null    float64\n",
      " 1   study_time       258 non-null    float64\n",
      " 2   knowledge_level  258 non-null    object \n",
      "dtypes: float64(2), object(1)\n",
      "memory usage: 6.2+ KB\n"
     ]
    }
   ],
   "source": [
    "data.info()"
   ]
  },
  {
   "cell_type": "code",
   "execution_count": 4,
   "metadata": {},
   "outputs": [
    {
     "data": {
      "text/html": [
       "<div>\n",
       "<style scoped>\n",
       "    .dataframe tbody tr th:only-of-type {\n",
       "        vertical-align: middle;\n",
       "    }\n",
       "\n",
       "    .dataframe tbody tr th {\n",
       "        vertical-align: top;\n",
       "    }\n",
       "\n",
       "    .dataframe thead th {\n",
       "        text-align: right;\n",
       "    }\n",
       "</style>\n",
       "<table border=\"1\" class=\"dataframe\">\n",
       "  <thead>\n",
       "    <tr style=\"text-align: right;\">\n",
       "      <th></th>\n",
       "      <th>repetition_time</th>\n",
       "      <th>study_time</th>\n",
       "    </tr>\n",
       "  </thead>\n",
       "  <tbody>\n",
       "    <tr>\n",
       "      <th>count</th>\n",
       "      <td>258.000000</td>\n",
       "      <td>258.000000</td>\n",
       "    </tr>\n",
       "    <tr>\n",
       "      <th>mean</th>\n",
       "      <td>0.432713</td>\n",
       "      <td>0.458539</td>\n",
       "    </tr>\n",
       "    <tr>\n",
       "      <th>std</th>\n",
       "      <td>0.248108</td>\n",
       "      <td>0.255211</td>\n",
       "    </tr>\n",
       "    <tr>\n",
       "      <th>min</th>\n",
       "      <td>0.000000</td>\n",
       "      <td>0.000000</td>\n",
       "    </tr>\n",
       "    <tr>\n",
       "      <th>25%</th>\n",
       "      <td>0.250000</td>\n",
       "      <td>0.250000</td>\n",
       "    </tr>\n",
       "    <tr>\n",
       "      <th>50%</th>\n",
       "      <td>0.330000</td>\n",
       "      <td>0.500000</td>\n",
       "    </tr>\n",
       "    <tr>\n",
       "      <th>75%</th>\n",
       "      <td>0.647500</td>\n",
       "      <td>0.660000</td>\n",
       "    </tr>\n",
       "    <tr>\n",
       "      <th>max</th>\n",
       "      <td>0.990000</td>\n",
       "      <td>0.930000</td>\n",
       "    </tr>\n",
       "  </tbody>\n",
       "</table>\n",
       "</div>"
      ],
      "text/plain": [
       "       repetition_time  study_time\n",
       "count       258.000000  258.000000\n",
       "mean          0.432713    0.458539\n",
       "std           0.248108    0.255211\n",
       "min           0.000000    0.000000\n",
       "25%           0.250000    0.250000\n",
       "50%           0.330000    0.500000\n",
       "75%           0.647500    0.660000\n",
       "max           0.990000    0.930000"
      ]
     },
     "execution_count": 4,
     "metadata": {},
     "output_type": "execute_result"
    }
   ],
   "source": [
    "data.describe()"
   ]
  },
  {
   "cell_type": "code",
   "execution_count": 5,
   "metadata": {},
   "outputs": [
    {
     "data": {
      "text/plain": [
       "array(['Low', 'High'], dtype=object)"
      ]
     },
     "execution_count": 5,
     "metadata": {},
     "output_type": "execute_result"
    }
   ],
   "source": [
    "#Counting unique values\n",
    "data['knowledge_level'].unique()"
   ]
  },
  {
   "cell_type": "code",
   "execution_count": 6,
   "metadata": {},
   "outputs": [
    {
     "data": {
      "text/plain": [
       "High    151\n",
       "Low     107\n",
       "Name: knowledge_level, dtype: int64"
      ]
     },
     "execution_count": 6,
     "metadata": {},
     "output_type": "execute_result"
    }
   ],
   "source": [
    "data['knowledge_level'].value_counts()"
   ]
  },
  {
   "cell_type": "markdown",
   "metadata": {},
   "source": [
    "### 3.Data Splitting"
   ]
  },
  {
   "cell_type": "code",
   "execution_count": 7,
   "metadata": {},
   "outputs": [],
   "source": [
    "x=data.drop(['knowledge_level'],axis=1)\n",
    "y=data['knowledge_level']"
   ]
  },
  {
   "cell_type": "code",
   "execution_count": 8,
   "metadata": {},
   "outputs": [
    {
     "data": {
      "text/html": [
       "<div>\n",
       "<style scoped>\n",
       "    .dataframe tbody tr th:only-of-type {\n",
       "        vertical-align: middle;\n",
       "    }\n",
       "\n",
       "    .dataframe tbody tr th {\n",
       "        vertical-align: top;\n",
       "    }\n",
       "\n",
       "    .dataframe thead th {\n",
       "        text-align: right;\n",
       "    }\n",
       "</style>\n",
       "<table border=\"1\" class=\"dataframe\">\n",
       "  <thead>\n",
       "    <tr style=\"text-align: right;\">\n",
       "      <th></th>\n",
       "      <th>repetition_time</th>\n",
       "      <th>study_time</th>\n",
       "    </tr>\n",
       "  </thead>\n",
       "  <tbody>\n",
       "    <tr>\n",
       "      <th>0</th>\n",
       "      <td>0.00</td>\n",
       "      <td>0.00</td>\n",
       "    </tr>\n",
       "    <tr>\n",
       "      <th>1</th>\n",
       "      <td>0.24</td>\n",
       "      <td>0.90</td>\n",
       "    </tr>\n",
       "    <tr>\n",
       "      <th>2</th>\n",
       "      <td>0.25</td>\n",
       "      <td>0.33</td>\n",
       "    </tr>\n",
       "    <tr>\n",
       "      <th>3</th>\n",
       "      <td>0.65</td>\n",
       "      <td>0.30</td>\n",
       "    </tr>\n",
       "    <tr>\n",
       "      <th>4</th>\n",
       "      <td>0.98</td>\n",
       "      <td>0.24</td>\n",
       "    </tr>\n",
       "  </tbody>\n",
       "</table>\n",
       "</div>"
      ],
      "text/plain": [
       "   repetition_time  study_time\n",
       "0             0.00        0.00\n",
       "1             0.24        0.90\n",
       "2             0.25        0.33\n",
       "3             0.65        0.30\n",
       "4             0.98        0.24"
      ]
     },
     "execution_count": 8,
     "metadata": {},
     "output_type": "execute_result"
    }
   ],
   "source": [
    "x.head()"
   ]
  },
  {
   "cell_type": "code",
   "execution_count": 9,
   "metadata": {},
   "outputs": [
    {
     "data": {
      "text/plain": [
       "0     Low\n",
       "1    High\n",
       "2     Low\n",
       "3    High\n",
       "4     Low\n",
       "Name: knowledge_level, dtype: object"
      ]
     },
     "execution_count": 9,
     "metadata": {},
     "output_type": "execute_result"
    }
   ],
   "source": [
    "y.head()"
   ]
  },
  {
   "cell_type": "code",
   "execution_count": 10,
   "metadata": {},
   "outputs": [],
   "source": [
    "y=pd.get_dummies(data,columns=['knowledge_level'])"
   ]
  },
  {
   "cell_type": "code",
   "execution_count": 11,
   "metadata": {},
   "outputs": [
    {
     "data": {
      "text/html": [
       "<div>\n",
       "<style scoped>\n",
       "    .dataframe tbody tr th:only-of-type {\n",
       "        vertical-align: middle;\n",
       "    }\n",
       "\n",
       "    .dataframe tbody tr th {\n",
       "        vertical-align: top;\n",
       "    }\n",
       "\n",
       "    .dataframe thead th {\n",
       "        text-align: right;\n",
       "    }\n",
       "</style>\n",
       "<table border=\"1\" class=\"dataframe\">\n",
       "  <thead>\n",
       "    <tr style=\"text-align: right;\">\n",
       "      <th></th>\n",
       "      <th>repetition_time</th>\n",
       "      <th>study_time</th>\n",
       "      <th>knowledge_level_High</th>\n",
       "      <th>knowledge_level_Low</th>\n",
       "    </tr>\n",
       "  </thead>\n",
       "  <tbody>\n",
       "    <tr>\n",
       "      <th>0</th>\n",
       "      <td>0.00</td>\n",
       "      <td>0.00</td>\n",
       "      <td>0</td>\n",
       "      <td>1</td>\n",
       "    </tr>\n",
       "    <tr>\n",
       "      <th>1</th>\n",
       "      <td>0.24</td>\n",
       "      <td>0.90</td>\n",
       "      <td>1</td>\n",
       "      <td>0</td>\n",
       "    </tr>\n",
       "    <tr>\n",
       "      <th>2</th>\n",
       "      <td>0.25</td>\n",
       "      <td>0.33</td>\n",
       "      <td>0</td>\n",
       "      <td>1</td>\n",
       "    </tr>\n",
       "    <tr>\n",
       "      <th>3</th>\n",
       "      <td>0.65</td>\n",
       "      <td>0.30</td>\n",
       "      <td>1</td>\n",
       "      <td>0</td>\n",
       "    </tr>\n",
       "    <tr>\n",
       "      <th>4</th>\n",
       "      <td>0.98</td>\n",
       "      <td>0.24</td>\n",
       "      <td>0</td>\n",
       "      <td>1</td>\n",
       "    </tr>\n",
       "  </tbody>\n",
       "</table>\n",
       "</div>"
      ],
      "text/plain": [
       "   repetition_time  study_time  knowledge_level_High  knowledge_level_Low\n",
       "0             0.00        0.00                     0                    1\n",
       "1             0.24        0.90                     1                    0\n",
       "2             0.25        0.33                     0                    1\n",
       "3             0.65        0.30                     1                    0\n",
       "4             0.98        0.24                     0                    1"
      ]
     },
     "execution_count": 11,
     "metadata": {},
     "output_type": "execute_result"
    }
   ],
   "source": [
    "y.head()"
   ]
  },
  {
   "cell_type": "markdown",
   "metadata": {},
   "source": [
    "### 4.Data Scaling"
   ]
  },
  {
   "cell_type": "code",
   "execution_count": 12,
   "metadata": {},
   "outputs": [
    {
     "data": {
      "text/plain": [
       "array([[-1.74744134, -1.80019743],\n",
       "       [-0.77824063,  1.73315205],\n",
       "       [-0.73785726, -0.50463595],\n",
       "       [ 0.87747726, -0.62241427],\n",
       "       [ 2.21012825, -0.8579709 ],\n",
       "       [-1.34360771,  0.79092552],\n",
       "       [-0.57632381,  0.39833113],\n",
       "       [-0.13210682, -1.76093799],\n",
       "       [ 1.16016081, -0.81871146],\n",
       "       [-0.93977408,  1.53685485],\n",
       "       [-0.53594045,  1.3798171 ],\n",
       "       [-0.09172345, -0.62241427],\n",
       "       [ 1.40246099, -0.46537652],\n",
       "       [-1.1416909 ,  1.73315205],\n",
       "       [-0.53594045,  0.55536889],\n",
       "       [-0.33402363,  1.34055766],\n",
       "       [-1.70705798, -1.60390024],\n",
       "       [-1.42437444, -0.50463595],\n",
       "       [-0.65709054, -0.66167371],\n",
       "       [ 0.23134345,  0.39833113],\n",
       "       [ 1.40246099, -1.01500866],\n",
       "       [-1.26284099,  0.79092552],\n",
       "       [-0.57632381,  0.75166608],\n",
       "       [-0.05134009, -0.70093315],\n",
       "       [ 1.32169426, -0.81871146],\n",
       "       [-1.02054081,  1.53685485],\n",
       "       [-0.73785726, -1.40760304],\n",
       "       [ 0.06981   , -0.81871146],\n",
       "       [ 2.0485948 ,  0.39833113],\n",
       "       [-0.89939072,  1.3798171 ],\n",
       "       [-0.49555708,  0.51610945],\n",
       "       [ 0.87747726, -0.8579709 ],\n",
       "       [ 1.32169426, -1.17204641],\n",
       "       [-0.98015744,  1.41907654],\n",
       "       [-0.49555708,  1.26203878],\n",
       "       [-0.01095673, -0.66167371],\n",
       "       [ 1.16016081, -0.77945202],\n",
       "       [-1.42437444, -0.50463595],\n",
       "       [-0.6974739 , -1.80019743],\n",
       "       [ 0.23134345, -0.03352269],\n",
       "       [ 1.32169426, -1.40760304],\n",
       "       [-0.93977408,  1.26203878],\n",
       "       [-0.57632381,  0.55536889],\n",
       "       [ 0.8370939 , -0.81871146],\n",
       "       [-0.65709054, -1.64315967],\n",
       "       [-1.18207426,  0.79092552],\n",
       "       [-0.49555708,  0.63388776],\n",
       "       [-0.21287354,  1.22277934],\n",
       "       [ 1.11977744,  1.73315205],\n",
       "       [-1.02054081,  0.83018496],\n",
       "       [-0.61670717, -0.81871146],\n",
       "       [ 0.31211018, -0.03352269],\n",
       "       [ 1.40246099, -1.60390024],\n",
       "       [-1.02054081,  1.57611429],\n",
       "       [-0.57632381,  0.35907169],\n",
       "       [-0.05134009, -0.77945202],\n",
       "       [ 1.64476116, -0.81871146],\n",
       "       [-0.98015744,  0.51610945],\n",
       "       [-0.41479036,  1.41907654],\n",
       "       [ 0.8370939 , -1.40760304],\n",
       "       [ 1.2813109 , -1.76093799],\n",
       "       [-0.98015744,  0.39833113],\n",
       "       [-0.53594045,  0.20203394],\n",
       "       [ 0.19096009, -0.70093315],\n",
       "       [ 1.48322771, -0.70093315],\n",
       "       [-1.38399108, -1.21130585],\n",
       "       [-0.6974739 , -0.8579709 ],\n",
       "       [ 0.47364363,  0.20203394],\n",
       "       [-0.61670717, -0.54389539],\n",
       "       [-1.66667462,  0.83018496],\n",
       "       [-0.57632381,  0.47685001],\n",
       "       [-0.05134009,  1.14426047],\n",
       "       [ 0.91786063, -1.48612192],\n",
       "       [-0.53594045,  0.28055282],\n",
       "       [-0.41479036,  1.26203878],\n",
       "       [-0.13210682, -1.40760304],\n",
       "       [ 1.2813109 , -1.40760304],\n",
       "       [-1.34360771, -0.62241427],\n",
       "       [-0.6974739 , -1.01500866],\n",
       "       [ 0.02942664, -0.70093315],\n",
       "       [ 1.32169426, -0.8579709 ],\n",
       "       [-1.26284099,  0.83018496],\n",
       "       [-0.57632381,  0.63388776],\n",
       "       [ 0.19096009, -0.77945202],\n",
       "       [ 1.07939408, -0.81871146],\n",
       "       [-0.93977408, -1.68241911],\n",
       "       [-0.49555708,  1.30129822],\n",
       "       [-0.09172345, -0.70093315],\n",
       "       [ 1.40246099, -1.09352753],\n",
       "       [-1.38399108,  0.83018496],\n",
       "       [-0.57632381,  0.39833113],\n",
       "       [ 1.40246099, -0.46537652],\n",
       "       [ 0.67556045, -1.44686248],\n",
       "       [-0.81862399, -0.8579709 ],\n",
       "       [-0.45517372,  1.34055766],\n",
       "       [ 0.75632717, -1.21130585],\n",
       "       [ 1.36207762, -1.05426809],\n",
       "       [-0.41479036,  1.22277934],\n",
       "       [-0.57632381,  0.43759057],\n",
       "       [-0.05134009, -0.66167371],\n",
       "       [ 0.19096009, -0.77945202],\n",
       "       [-0.41479036,  1.61537373],\n",
       "       [-0.49555708,  0.31981226],\n",
       "       [ 0.23134345, -0.74019259],\n",
       "       [ 1.32169426, -1.40760304],\n",
       "       [-0.73785726,  0.83018496],\n",
       "       [-0.57632381,  0.51610945],\n",
       "       [-0.13210682,  0.31981226],\n",
       "       [ 1.52361108, -0.62241427],\n",
       "       [-0.25325691,  1.49759541],\n",
       "       [-0.65709054, -0.50463595],\n",
       "       [-0.13210682, -0.62241427],\n",
       "       [ 1.84667798,  0.47685001],\n",
       "       [-0.13210682,  1.30129822],\n",
       "       [-0.49555708,  0.35907169],\n",
       "       [ 0.71594381, -0.03352269],\n",
       "       [ 0.91786063, -1.52538136],\n",
       "       [ 1.48322771,  0.94796327],\n",
       "       [-1.06092417,  0.79092552],\n",
       "       [-0.45517372,  1.3798171 ],\n",
       "       [ 0.87747726, -1.28982473],\n",
       "       [ 1.16016081, -0.81871146],\n",
       "       [-1.30322435, -0.49285812],\n",
       "       [-0.73785726,  1.45833598],\n",
       "       [ 0.23134345,  1.18351991],\n",
       "       [ 1.96782807,  0.1627745 ],\n",
       "       [-0.85900735,  0.79092552],\n",
       "       [-0.61670717, -0.70093315],\n",
       "       [ 0.79671054, -1.25056529],\n",
       "       [ 1.80629462, -0.70093315],\n",
       "       [-1.50514116, -0.46537652],\n",
       "       [-0.6974739 ,  0.83018496],\n",
       "       [ 0.47364363, -1.52538136],\n",
       "       [ 1.07939408,  0.98722271],\n",
       "       [-1.34360771,  0.75166608],\n",
       "       [-0.49555708,  0.1627745 ],\n",
       "       [ 0.19096009, -0.77945202],\n",
       "       [ 1.40246099, -1.40760304],\n",
       "       [-1.02054081,  0.47685001],\n",
       "       [-0.65709054, -0.62241427],\n",
       "       [ 0.47364363, -1.40760304],\n",
       "       [ 1.40246099, -0.22981988],\n",
       "       [-0.85900735,  0.39833113],\n",
       "       [-0.85900735, -0.66167371],\n",
       "       [ 0.514027  ,  0.08425562],\n",
       "       [ 2.08897816,  0.75166608],\n",
       "       [-0.77824063, -0.42611708],\n",
       "       [-0.41479036, -1.40760304],\n",
       "       [ 0.8370939 , -1.28982473],\n",
       "       [ 0.87747726,  1.22277934],\n",
       "       [-1.18207426,  1.57611429],\n",
       "       [-0.45517372, -0.62241427],\n",
       "       [ 0.19096009, -1.28982473],\n",
       "       [ 1.36207762, -1.25056529],\n",
       "       [-1.38399108,  0.71240664],\n",
       "       [-0.41479036,  0.24129338],\n",
       "       [-0.29364027,  0.20203394],\n",
       "       [ 1.36207762,  1.45833598],\n",
       "       [-1.02054081,  0.51610945],\n",
       "       [-0.49555708,  0.31981226],\n",
       "       [ 0.71594381, -1.09352753],\n",
       "       [ 1.64476116, -0.62241427],\n",
       "       [-0.77824063,  1.65463317],\n",
       "       [-0.65709054,  1.69389261],\n",
       "       [ 0.23134345, -1.32908416],\n",
       "       [-0.53594045,  1.73315205],\n",
       "       [-0.93977408,  0.59462833],\n",
       "       [ 0.23134345,  1.26203878],\n",
       "       [ 0.67556045, -1.17204641],\n",
       "       [-0.89939072,  1.81167092],\n",
       "       [-1.58590789, -0.81871146],\n",
       "       [-0.41479036,  0.12351506],\n",
       "       [ 0.39287691,  1.53685485],\n",
       "       [ 1.2813109 , -1.17204641],\n",
       "       [-1.26284099,  0.79092552],\n",
       "       [-0.41479036, -0.62241427],\n",
       "       [ 0.87747726, -1.05426809],\n",
       "       [ 1.2813109 ,  0.98722271],\n",
       "       [-0.85900735,  0.55536889],\n",
       "       [-0.6974739 ,  1.45833598],\n",
       "       [ 0.79671054, -1.09352753],\n",
       "       [ 2.25051161,  0.35907169],\n",
       "       [-0.77824063,  1.69389261],\n",
       "       [-0.57632381, -0.62241427],\n",
       "       [ 0.75632717, -1.01500866],\n",
       "       [ 1.40246099, -0.97574922],\n",
       "       [-1.70705798,  1.85093036],\n",
       "       [-0.57632381,  0.43759057],\n",
       "       [ 0.47364363, -0.81871146],\n",
       "       [ 1.88706134,  0.04499619],\n",
       "       [-1.10130753,  0.71240664],\n",
       "       [-0.53594045,  1.34055766],\n",
       "       [-0.13210682,  0.1627745 ],\n",
       "       [ 1.80629462,  0.83018496],\n",
       "       [-1.30322435,  0.79092552],\n",
       "       [-0.73785726, -0.66167371],\n",
       "       [ 0.19096009, -1.40760304],\n",
       "       [ 1.16016081, -0.77945202],\n",
       "       [-1.02054081,  0.6731472 ],\n",
       "       [-0.53594045, -1.40760304],\n",
       "       [ 0.47364363, -1.44686248],\n",
       "       [ 0.87747726,  0.1627745 ],\n",
       "       [-1.42437444, -1.40760304],\n",
       "       [-0.53594045, -0.66167371],\n",
       "       [ 0.87747726,  1.14426047],\n",
       "       [ 1.52361108, -1.21130585],\n",
       "       [-1.38399108,  0.79092552],\n",
       "       [-0.49555708,  0.28055282],\n",
       "       [ 0.19096009, -1.3683436 ],\n",
       "       [ 1.48322771,  0.8694444 ],\n",
       "       [-1.18207426,  0.63388776],\n",
       "       [-0.49555708,  0.20203394],\n",
       "       [ 0.59479372,  1.30129822],\n",
       "       [ 1.6043778 , -0.46537652],\n",
       "       [-0.93977408,  0.55536889],\n",
       "       [-0.57632381, -0.62241427],\n",
       "       [ 0.27172682, -0.62241427],\n",
       "       [ 1.76591125,  0.47685001],\n",
       "       [-1.06092417,  0.71240664],\n",
       "       [-0.61670717, -0.62241427],\n",
       "       [ 0.75632717, -0.8579709 ],\n",
       "       [ 1.40246099, -0.70093315],\n",
       "       [-0.93977408,  0.79092552],\n",
       "       [-0.49555708,  0.43759057],\n",
       "       [ 0.79671054, -0.97574922],\n",
       "       [ 1.56399444,  0.8694444 ],\n",
       "       [-0.81862399,  0.51610945],\n",
       "       [-0.57632381, -0.58315483],\n",
       "       [ 0.47364363,  1.26203878],\n",
       "       [ 1.07939408,  0.90870384],\n",
       "       [-1.26284099,  0.75166608],\n",
       "       [-0.61670717, -0.70093315],\n",
       "       [ 0.63517708, -0.89723034],\n",
       "       [ 1.92744471,  0.79092552],\n",
       "       [-1.1416909 ,  0.63388776],\n",
       "       [-0.65709054, -0.62241427],\n",
       "       [ 0.67556045, -0.93648978],\n",
       "       [-0.13210682,  1.45833598],\n",
       "       [-1.22245762,  0.71240664],\n",
       "       [-0.53594045,  0.24129338],\n",
       "       [ 0.75632717, -1.01500866],\n",
       "       [ 1.40246099,  1.57611429],\n",
       "       [-1.02054081,  0.6731472 ],\n",
       "       [-0.65709054, -0.81871146],\n",
       "       [ 0.87747726, -0.81871146],\n",
       "       [ 1.84667798,  1.65463317],\n",
       "       [-1.34360771,  0.79092552],\n",
       "       [-0.57632381, -0.66167371],\n",
       "       [ 0.87747726,  1.73315205],\n",
       "       [ 1.44284435, -0.03352269],\n",
       "       [-1.38399108,  0.79092552],\n",
       "       [-0.49555708,  0.1627745 ],\n",
       "       [ 0.8370939 , -1.05426809],\n",
       "       [ 1.96782807,  0.47685001],\n",
       "       [-0.98015744,  0.55536889],\n",
       "       [-0.57632381,  1.22277934],\n",
       "       [ 0.71594381, -0.77945202],\n",
       "       [ 1.76591125,  1.10500103]])"
      ]
     },
     "execution_count": 12,
     "metadata": {},
     "output_type": "execute_result"
    }
   ],
   "source": [
    "scaler_x = StandardScaler()\n",
    "x = scaler_x.fit_transform(x)\n",
    "x"
   ]
  },
  {
   "cell_type": "markdown",
   "metadata": {},
   "source": [
    "### 5.Training & Testing Data"
   ]
  },
  {
   "cell_type": "code",
   "execution_count": 13,
   "metadata": {},
   "outputs": [],
   "source": [
    "x_train,x_test,y_train,y_test = train_test_split(x,y['knowledge_level_High'],test_size=0.3,random_state=0)"
   ]
  },
  {
   "cell_type": "code",
   "execution_count": 14,
   "metadata": {},
   "outputs": [
    {
     "data": {
      "text/plain": [
       "(180, 2)"
      ]
     },
     "execution_count": 14,
     "metadata": {},
     "output_type": "execute_result"
    }
   ],
   "source": [
    "x_train.shape"
   ]
  },
  {
   "cell_type": "code",
   "execution_count": 15,
   "metadata": {},
   "outputs": [
    {
     "data": {
      "text/plain": [
       "(78, 2)"
      ]
     },
     "execution_count": 15,
     "metadata": {},
     "output_type": "execute_result"
    }
   ],
   "source": [
    "x_test.shape"
   ]
  },
  {
   "cell_type": "code",
   "execution_count": 16,
   "metadata": {},
   "outputs": [
    {
     "data": {
      "text/plain": [
       "(180,)"
      ]
     },
     "execution_count": 16,
     "metadata": {},
     "output_type": "execute_result"
    }
   ],
   "source": [
    "y_train.shape"
   ]
  },
  {
   "cell_type": "code",
   "execution_count": 17,
   "metadata": {},
   "outputs": [
    {
     "data": {
      "text/plain": [
       "(78,)"
      ]
     },
     "execution_count": 17,
     "metadata": {},
     "output_type": "execute_result"
    }
   ],
   "source": [
    "y_test.shape"
   ]
  },
  {
   "cell_type": "markdown",
   "metadata": {},
   "source": [
    "# <font color=\"green\">6.Decision Tree Classification</font>"
   ]
  },
  {
   "cell_type": "markdown",
   "metadata": {},
   "source": [
    "## Training the Model"
   ]
  },
  {
   "cell_type": "code",
   "execution_count": 18,
   "metadata": {},
   "outputs": [
    {
     "data": {
      "text/plain": [
       "RandomForestClassifier(criterion='entropy', n_estimators=1000, random_state=0)"
      ]
     },
     "execution_count": 18,
     "metadata": {},
     "output_type": "execute_result"
    }
   ],
   "source": [
    "rfc = RandomForestClassifier(n_estimators=1000,criterion=\"entropy\",random_state=0)\n",
    "rfc.fit(x_train,y_train)"
   ]
  },
  {
   "cell_type": "markdown",
   "metadata": {},
   "source": [
    "## Predicting Test Values"
   ]
  },
  {
   "cell_type": "code",
   "execution_count": 19,
   "metadata": {},
   "outputs": [
    {
     "data": {
      "text/plain": [
       "array([1, 0, 1, 0, 0, 0, 0, 0, 0, 1, 1, 1, 0, 0, 1, 1, 0, 1, 0, 0, 0, 0,\n",
       "       1, 1, 1, 1, 0, 1, 1, 1, 1, 0, 1, 1, 0, 1, 1, 1, 0, 1, 1, 1, 0, 1,\n",
       "       0, 1, 0, 1, 0, 0, 0, 0, 0, 1, 1, 1, 1, 1, 1, 0, 0, 1, 1, 1, 0, 0,\n",
       "       1, 1, 1, 0, 0, 1, 0, 0, 1, 0, 1, 0], dtype=uint8)"
      ]
     },
     "execution_count": 19,
     "metadata": {},
     "output_type": "execute_result"
    }
   ],
   "source": [
    "y_pred = rfc.predict(x_test)\n",
    "\n",
    "y_pred"
   ]
  },
  {
   "cell_type": "markdown",
   "metadata": {},
   "source": [
    "## Visualizing Model Performance"
   ]
  },
  {
   "cell_type": "code",
   "execution_count": 20,
   "metadata": {},
   "outputs": [
    {
     "data": {
      "text/plain": [
       "array([[36,  0],\n",
       "       [ 0, 42]], dtype=int64)"
      ]
     },
     "execution_count": 20,
     "metadata": {},
     "output_type": "execute_result"
    }
   ],
   "source": [
    "cm = confusion_matrix(y_test,y_pred)\n",
    "cm"
   ]
  },
  {
   "cell_type": "code",
   "execution_count": 21,
   "metadata": {},
   "outputs": [
    {
     "data": {
      "text/plain": [
       "<matplotlib.axes._subplots.AxesSubplot at 0x19b388138b0>"
      ]
     },
     "execution_count": 21,
     "metadata": {},
     "output_type": "execute_result"
    },
    {
     "data": {
      "image/png": "[encoded data removed]",
      "text/plain": [
       "<Figure size 432x288 with 2 Axes>"
      ]
     },
     "metadata": {
      "needs_background": "light"
     },
     "output_type": "display_data"
    }
   ],
   "source": [
    "sns.heatmap(cm/np.sum(cm), annot=True,fmt='.2%', cmap='Blues')"
   ]
  },
  {
   "cell_type": "code",
   "execution_count": 22,
   "metadata": {},
   "outputs": [
    {
     "name": "stdout",
     "output_type": "stream",
     "text": [
      "Accuracy : 100.0%\n"
     ]
    }
   ],
   "source": [
    "print(\"Accuracy : \"+str(accuracy_score(y_test,y_pred)*100)+\"%\")"
   ]
  },
  {
   "cell_type": "markdown",
   "metadata": {},
   "source": [
    "### ColorMapping"
   ]
  },
  {
   "cell_type": "code",
   "execution_count": 23,
   "metadata": {},
   "outputs": [
    {
     "data": {
      "text/plain": [
       "array([[-2.70705798, -2.69705798, -2.68705798, ...,  3.22294202,\n",
       "         3.23294202,  3.24294202],\n",
       "       [-2.70705798, -2.69705798, -2.68705798, ...,  3.22294202,\n",
       "         3.23294202,  3.24294202],\n",
       "       [-2.70705798, -2.69705798, -2.68705798, ...,  3.22294202,\n",
       "         3.23294202,  3.24294202],\n",
       "       ...,\n",
       "       [-2.70705798, -2.69705798, -2.68705798, ...,  3.22294202,\n",
       "         3.23294202,  3.24294202],\n",
       "       [-2.70705798, -2.69705798, -2.68705798, ...,  3.22294202,\n",
       "         3.23294202,  3.24294202],\n",
       "       [-2.70705798, -2.69705798, -2.68705798, ...,  3.22294202,\n",
       "         3.23294202,  3.24294202]])"
      ]
     },
     "execution_count": 23,
     "metadata": {},
     "output_type": "execute_result"
    }
   ],
   "source": [
    "from matplotlib.colors import ListedColormap\n",
    "x_set,y_set = x_test,y_test\n",
    "x1,x2 = np.meshgrid(np.arange(start=x_set[:,0].min()-1,stop=x_set[:,0].max()+1,step=0.01),\n",
    "                    np.arange(start=x_set[:,1].min()-1,stop=x_set[:,1].max()+1,step=0.01))\n",
    "x1"
   ]
  },
  {
   "cell_type": "code",
   "execution_count": 24,
   "metadata": {},
   "outputs": [
    {
     "data": {
      "text/plain": [
       "array([[-2.76093799, -2.76093799, -2.76093799, ..., -2.76093799,\n",
       "        -2.76093799, -2.76093799],\n",
       "       [-2.75093799, -2.75093799, -2.75093799, ..., -2.75093799,\n",
       "        -2.75093799, -2.75093799],\n",
       "       [-2.74093799, -2.74093799, -2.74093799, ..., -2.74093799,\n",
       "        -2.74093799, -2.74093799],\n",
       "       ...,\n",
       "       [ 2.58906201,  2.58906201,  2.58906201, ...,  2.58906201,\n",
       "         2.58906201,  2.58906201],\n",
       "       [ 2.59906201,  2.59906201,  2.59906201, ...,  2.59906201,\n",
       "         2.59906201,  2.59906201],\n",
       "       [ 2.60906201,  2.60906201,  2.60906201, ...,  2.60906201,\n",
       "         2.60906201,  2.60906201]])"
      ]
     },
     "execution_count": 24,
     "metadata": {},
     "output_type": "execute_result"
    }
   ],
   "source": [
    "x2"
   ]
  },
  {
   "cell_type": "code",
   "execution_count": 25,
   "metadata": {},
   "outputs": [
    {
     "name": "stderr",
     "output_type": "stream",
     "text": [
      "*c* argument looks like a single numeric RGB or RGBA sequence, which should be avoided as value-mapping will have precedence in case its length matches with *x* & *y*.  Please use the *color* keyword-argument or provide a 2-D array with a single row if you intend to specify the same RGB or RGBA value for all points.\n",
      "*c* argument looks like a single numeric RGB or RGBA sequence, which should be avoided as value-mapping will have precedence in case its length matches with *x* & *y*.  Please use the *color* keyword-argument or provide a 2-D array with a single row if you intend to specify the same RGB or RGBA value for all points.\n"
     ]
    },
    {
     "data": {
      "image/png": "[encoded data removed]",
      "text/plain": [
       "<Figure size 432x288 with 1 Axes>"
      ]
     },
     "metadata": {
      "needs_background": "light"
     },
     "output_type": "display_data"
    }
   ],
   "source": [
    "plt.contourf(x1,x2,rfc.predict(np.array([x1.ravel(),x2.ravel()]).T).reshape(x1.shape),alpha=0.75,cmap=ListedColormap(('White','grey')))\n",
    "plt.xlim(x1.min(),x1.max())\n",
    "plt.ylim(x2.min(),x2.max())\n",
    "\n",
    "for i,j in enumerate(np.unique(y_set)):\n",
    "    plt.scatter(x_set[y_set == j,0],x_set[y_set == j,1],c=ListedColormap(('red','green'))(i),label=j)\n",
    "\n",
    "plt.xlabel('r time')\n",
    "plt.ylabel('s time')\n",
    "plt.legend()\n",
    "plt.show()"
   ]
  }
 ],
 "metadata": {
  "kernelspec": {
   "display_name": "Python 3",
   "language": "python",
   "name": "python3"
  },
  "language_info": {
   "codemirror_mode": {
    "name": "ipython",
    "version": 3
   },
   "file_extension": ".py",
   "mimetype": "text/x-python",
   "name": "python",
   "nbconvert_exporter": "python",
   "pygments_lexer": "ipython3",
   "version": "3.8.3"
  }
 },
 "nbformat": 4,
 "nbformat_minor": 4
}
