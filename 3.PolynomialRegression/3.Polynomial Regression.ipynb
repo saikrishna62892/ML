{
 "cells": [
  {
   "cell_type": "markdown",
   "metadata": {},
   "source": [
    "### 1.Importing Libraries"
   ]
  },
  {
   "cell_type": "code",
   "execution_count": 1,
   "metadata": {},
   "outputs": [],
   "source": [
    "import numpy as np\n",
    "import pandas as pd\n",
    "import matplotlib.pyplot as plt\n",
    "import matplotlib.axes as ax"
   ]
  },
  {
   "cell_type": "markdown",
   "metadata": {},
   "source": [
    "### 2.Loading Data"
   ]
  },
  {
   "cell_type": "code",
   "execution_count": 2,
   "metadata": {},
   "outputs": [],
   "source": [
    "data = pd.read_csv(r'C:\\Users\\G.SAI KRISHNA\\Desktop\\ML_Projects\\ML_GFG\\train.csv')"
   ]
  },
  {
   "cell_type": "code",
   "execution_count": 3,
   "metadata": {},
   "outputs": [
    {
     "data": {
      "text/html": [
       "<div>\n",
       "<style scoped>\n",
       "    .dataframe tbody tr th:only-of-type {\n",
       "        vertical-align: middle;\n",
       "    }\n",
       "\n",
       "    .dataframe tbody tr th {\n",
       "        vertical-align: top;\n",
       "    }\n",
       "\n",
       "    .dataframe thead th {\n",
       "        text-align: right;\n",
       "    }\n",
       "</style>\n",
       "<table border=\"1\" class=\"dataframe\">\n",
       "  <thead>\n",
       "    <tr style=\"text-align: right;\">\n",
       "      <th></th>\n",
       "      <th>x</th>\n",
       "      <th>y</th>\n",
       "    </tr>\n",
       "  </thead>\n",
       "  <tbody>\n",
       "    <tr>\n",
       "      <th>0</th>\n",
       "      <td>24.0</td>\n",
       "      <td>21.549452</td>\n",
       "    </tr>\n",
       "    <tr>\n",
       "      <th>1</th>\n",
       "      <td>50.0</td>\n",
       "      <td>47.464463</td>\n",
       "    </tr>\n",
       "    <tr>\n",
       "      <th>2</th>\n",
       "      <td>15.0</td>\n",
       "      <td>17.218656</td>\n",
       "    </tr>\n",
       "    <tr>\n",
       "      <th>3</th>\n",
       "      <td>38.0</td>\n",
       "      <td>36.586398</td>\n",
       "    </tr>\n",
       "    <tr>\n",
       "      <th>4</th>\n",
       "      <td>87.0</td>\n",
       "      <td>87.288984</td>\n",
       "    </tr>\n",
       "  </tbody>\n",
       "</table>\n",
       "</div>"
      ],
      "text/plain": [
       "      x          y\n",
       "0  24.0  21.549452\n",
       "1  50.0  47.464463\n",
       "2  15.0  17.218656\n",
       "3  38.0  36.586398\n",
       "4  87.0  87.288984"
      ]
     },
     "execution_count": 3,
     "metadata": {},
     "output_type": "execute_result"
    }
   ],
   "source": [
    "data.head()"
   ]
  },
  {
   "cell_type": "code",
   "execution_count": 4,
   "metadata": {},
   "outputs": [
    {
     "name": "stdout",
     "output_type": "stream",
     "text": [
      "<class 'pandas.core.frame.DataFrame'>\n",
      "RangeIndex: 700 entries, 0 to 699\n",
      "Data columns (total 2 columns):\n",
      " #   Column  Non-Null Count  Dtype  \n",
      "---  ------  --------------  -----  \n",
      " 0   x       700 non-null    float64\n",
      " 1   y       699 non-null    float64\n",
      "dtypes: float64(2)\n",
      "memory usage: 11.1 KB\n"
     ]
    }
   ],
   "source": [
    "data.info()"
   ]
  },
  {
   "cell_type": "markdown",
   "metadata": {},
   "source": [
    "### 3.Data Preprocessing"
   ]
  },
  {
   "cell_type": "code",
   "execution_count": 5,
   "metadata": {},
   "outputs": [],
   "source": [
    "#Handling Null Values\n",
    "data = data.dropna(axis=0)"
   ]
  },
  {
   "cell_type": "code",
   "execution_count": 6,
   "metadata": {},
   "outputs": [
    {
     "data": {
      "text/plain": [
       "100.0"
      ]
     },
     "execution_count": 6,
     "metadata": {},
     "output_type": "execute_result"
    }
   ],
   "source": [
    "data['x'].max()"
   ]
  },
  {
   "cell_type": "code",
   "execution_count": 7,
   "metadata": {},
   "outputs": [
    {
     "name": "stdout",
     "output_type": "stream",
     "text": [
      "<class 'pandas.core.frame.DataFrame'>\n",
      "Int64Index: 699 entries, 0 to 699\n",
      "Data columns (total 2 columns):\n",
      " #   Column  Non-Null Count  Dtype  \n",
      "---  ------  --------------  -----  \n",
      " 0   x       699 non-null    float64\n",
      " 1   y       699 non-null    float64\n",
      "dtypes: float64(2)\n",
      "memory usage: 16.4 KB\n"
     ]
    }
   ],
   "source": [
    "data.info()"
   ]
  },
  {
   "cell_type": "markdown",
   "metadata": {},
   "source": [
    "### 4.Data Splitting"
   ]
  },
  {
   "cell_type": "code",
   "execution_count": 8,
   "metadata": {},
   "outputs": [],
   "source": [
    "train_input = np.array(data.iloc[0:500,0]).reshape(500,1)\n",
    "train_output = np.array(data.iloc[0:500,1]).reshape(500,1)\n",
    "\n",
    "test_input = np.array(data.iloc[500:700,0]).reshape(199,1)\n",
    "test_output = np.array(data.iloc[500:700,1]).reshape(199,1)"
   ]
  },
  {
   "cell_type": "code",
   "execution_count": 9,
   "metadata": {},
   "outputs": [
    {
     "data": {
      "text/plain": [
       "(500, 1)"
      ]
     },
     "execution_count": 9,
     "metadata": {},
     "output_type": "execute_result"
    }
   ],
   "source": [
    "train_input.shape"
   ]
  },
  {
   "cell_type": "code",
   "execution_count": 10,
   "metadata": {},
   "outputs": [
    {
     "data": {
      "text/plain": [
       "(500, 1)"
      ]
     },
     "execution_count": 10,
     "metadata": {},
     "output_type": "execute_result"
    }
   ],
   "source": [
    "train_output.shape"
   ]
  },
  {
   "cell_type": "code",
   "execution_count": 11,
   "metadata": {},
   "outputs": [
    {
     "data": {
      "text/plain": [
       "(199, 1)"
      ]
     },
     "execution_count": 11,
     "metadata": {},
     "output_type": "execute_result"
    }
   ],
   "source": [
    "test_input.shape"
   ]
  },
  {
   "cell_type": "code",
   "execution_count": 12,
   "metadata": {},
   "outputs": [
    {
     "data": {
      "text/plain": [
       "(199, 1)"
      ]
     },
     "execution_count": 12,
     "metadata": {},
     "output_type": "execute_result"
    }
   ],
   "source": [
    "test_output.shape"
   ]
  },
  {
   "cell_type": "markdown",
   "metadata": {},
   "source": [
    "# <font color=\"green\">5.Polynomial Regression</font>"
   ]
  },
  {
   "cell_type": "markdown",
   "metadata": {},
   "source": [
    "## Training the Model"
   ]
  },
  {
   "cell_type": "code",
   "execution_count": 13,
   "metadata": {},
   "outputs": [
    {
     "data": {
      "text/plain": [
       "PolynomialFeatures()"
      ]
     },
     "execution_count": 13,
     "metadata": {},
     "output_type": "execute_result"
    }
   ],
   "source": [
    "from sklearn.linear_model import LinearRegression\n",
    "from sklearn.preprocessing import PolynomialFeatures\n",
    "\n",
    "poly_regressor = PolynomialFeatures(degree=2)\n",
    "train_input_poly = poly_regressor.fit_transform(train_input)\n",
    "poly_regressor.fit(train_input,train_output)"
   ]
  },
  {
   "cell_type": "code",
   "execution_count": 14,
   "metadata": {},
   "outputs": [
    {
     "data": {
      "text/plain": [
       "array([[1.000e+00, 2.400e+01, 5.760e+02],\n",
       "       [1.000e+00, 5.000e+01, 2.500e+03],\n",
       "       [1.000e+00, 1.500e+01, 2.250e+02],\n",
       "       ...,\n",
       "       [1.000e+00, 2.100e+01, 4.410e+02],\n",
       "       [1.000e+00, 8.100e+01, 6.561e+03],\n",
       "       [1.000e+00, 9.700e+01, 9.409e+03]])"
      ]
     },
     "execution_count": 14,
     "metadata": {},
     "output_type": "execute_result"
    }
   ],
   "source": [
    "train_input_poly"
   ]
  },
  {
   "cell_type": "code",
   "execution_count": 15,
   "metadata": {},
   "outputs": [
    {
     "data": {
      "text/plain": [
       "LinearRegression()"
      ]
     },
     "execution_count": 15,
     "metadata": {},
     "output_type": "execute_result"
    }
   ],
   "source": [
    "linear_regressor = LinearRegression()\n",
    "linear_regressor.fit(train_input_poly,train_output)"
   ]
  },
  {
   "cell_type": "markdown",
   "metadata": {},
   "source": [
    "## Predicting Test Values"
   ]
  },
  {
   "cell_type": "code",
   "execution_count": 16,
   "metadata": {},
   "outputs": [
    {
     "data": {
      "text/plain": [
       "PolynomialFeatures()"
      ]
     },
     "execution_count": 16,
     "metadata": {},
     "output_type": "execute_result"
    }
   ],
   "source": [
    "test_input_poly = poly_regressor.fit_transform(test_input)\n",
    "poly_regressor.fit(test_input,test_output)"
   ]
  },
  {
   "cell_type": "code",
   "execution_count": 17,
   "metadata": {},
   "outputs": [],
   "source": [
    "predicted_value = linear_regressor.predict(test_input_poly)"
   ]
  },
  {
   "cell_type": "code",
   "execution_count": 18,
   "metadata": {},
   "outputs": [
    {
     "data": {
      "text/plain": [
       "array([[ 4.46957573],\n",
       "       [60.99608394],\n",
       "       [47.00554813],\n",
       "       [97.51828372],\n",
       "       [29.89058614],\n",
       "       [62.98705348],\n",
       "       [-0.65061901],\n",
       "       [99.47374049],\n",
       "       [17.72593351],\n",
       "       [29.89058614],\n",
       "       [97.51828372],\n",
       "       [15.69177278],\n",
       "       [21.78849616],\n",
       "       [55.01165768],\n",
       "       [42.99097571],\n",
       "       [74.89255892],\n",
       "       [90.65906809],\n",
       "       [46.00262488],\n",
       "       [84.76102421],\n",
       "       [55.01165768],\n",
       "       [35.94699773],\n",
       "       [49.00995493],\n",
       "       [93.60161134],\n",
       "       [42.99097571],\n",
       "       [21.78849616],\n",
       "       [36.95472001],\n",
       "       [23.81689807],\n",
       "       [94.58149929],\n",
       "       [60.99608394],\n",
       "       [74.89255892],\n",
       "       [67.95607903],\n",
       "       [58.00603037],\n",
       "       [ 4.46957573],\n",
       "       [53.0130097 ],\n",
       "       [79.83279034],\n",
       "       [82.79117037],\n",
       "       [24.83037917],\n",
       "       [33.93011348],\n",
       "       [25.84338036],\n",
       "       [89.67726053],\n",
       "       [59.99987932],\n",
       "       [49.00995493],\n",
       "       [18.74229403],\n",
       "       [91.64039574],\n",
       "       [28.87950455],\n",
       "       [ 7.53593375],\n",
       "       [57.00838604],\n",
       "       [28.87950455],\n",
       "       [18.74229403],\n",
       "       [80.81939692],\n",
       "       [50.01143848],\n",
       "       [14.67397256],\n",
       "       [69.94032994],\n",
       "       [38.96872485],\n",
       "       [42.99097571],\n",
       "       [20.77357535],\n",
       "       [97.51828372],\n",
       "       [85.74523128],\n",
       "       [15.69177278],\n",
       "       [24.83037917],\n",
       "       [30.90118783],\n",
       "       [92.62124349],\n",
       "       [66.96323373],\n",
       "       [49.00995493],\n",
       "       [24.83037917],\n",
       "       [87.71220571],\n",
       "       [54.01257364],\n",
       "       [20.77357535],\n",
       "       [ 7.53593375],\n",
       "       [31.91130961],\n",
       "       [34.93879556],\n",
       "       [66.96323373],\n",
       "       [89.67726053],\n",
       "       [59.00319479],\n",
       "       [14.67397256],\n",
       "       [66.96323373],\n",
       "       [41.98613285],\n",
       "       [43.99533867],\n",
       "       [76.8700912 ],\n",
       "       [67.95607903],\n",
       "       [35.94699773],\n",
       "       [10.59797265],\n",
       "       [ 9.57777292],\n",
       "       [64.97610341],\n",
       "       [97.51828372],\n",
       "       [97.51828372],\n",
       "       [49.00995493],\n",
       "       [30.90118783],\n",
       "       [56.01026181],\n",
       "       [69.94032994],\n",
       "       [90.65906809],\n",
       "       [24.83037917],\n",
       "       [54.01257364],\n",
       "       [38.96872485],\n",
       "       [90.65906809],\n",
       "       [ 2.42293754],\n",
       "       [21.78849616],\n",
       "       [ 1.39889859],\n",
       "       [ 1.39889859],\n",
       "       [64.97610341],\n",
       "       [70.93173554],\n",
       "       [41.98613285],\n",
       "       [75.88156501],\n",
       "       [42.99097571],\n",
       "       [ 7.53593375],\n",
       "       [85.74523128],\n",
       "       [86.72895845],\n",
       "       [ 2.42293754],\n",
       "       [58.00603037],\n",
       "       [61.99180866],\n",
       "       [88.69497307],\n",
       "       [94.58149929],\n",
       "       [27.86794306],\n",
       "       [-0.65061901],\n",
       "       [ 0.37437974],\n",
       "       [49.00995493],\n",
       "       [20.77357535],\n",
       "       [46.00262488],\n",
       "       [10.59797265],\n",
       "       [88.69497307],\n",
       "       [36.95472001],\n",
       "       [28.87950455],\n",
       "       [43.99533867],\n",
       "       [95.56090733],\n",
       "       [15.69177278],\n",
       "       [73.90307293],\n",
       "       [34.93879556],\n",
       "       [41.98613285],\n",
       "       [15.69177278],\n",
       "       [56.01026181],\n",
       "       [17.72593351],\n",
       "       [99.47374049],\n",
       "       [54.01257364],\n",
       "       [91.64039574],\n",
       "       [62.98705348],\n",
       "       [80.81939692],\n",
       "       [72.91310704],\n",
       "       [48.00799148],\n",
       "       [ 0.37437974],\n",
       "       [84.76102421],\n",
       "       [13.65569244],\n",
       "       [24.83037917],\n",
       "       [44.99922172],\n",
       "       [97.51828372],\n",
       "       [96.53983548],\n",
       "       [58.00603037],\n",
       "       [92.62124349],\n",
       "       [87.71220571],\n",
       "       [88.69497307],\n",
       "       [47.00554813],\n",
       "       [ 5.49217497],\n",
       "       [33.93011348],\n",
       "       [29.89058614],\n",
       "       [15.69177278],\n",
       "       [85.74523128],\n",
       "       [39.97500742],\n",
       "       [52.01296586],\n",
       "       [14.67397256],\n",
       "       [ 3.44649659],\n",
       "       [94.58149929],\n",
       "       [98.49625206],\n",
       "       [34.93879556],\n",
       "       [58.00603037],\n",
       "       [ 9.57777292],\n",
       "       [15.69177278],\n",
       "       [53.0130097 ],\n",
       "       [58.00603037],\n",
       "       [41.98613285],\n",
       "       [23.81689807],\n",
       "       [83.77633724],\n",
       "       [63.98181839],\n",
       "       [11.61769248],\n",
       "       [60.99608394],\n",
       "       [74.89255892],\n",
       "       [14.67397256],\n",
       "       [99.47374049],\n",
       "       [42.99097571],\n",
       "       [12.63693241],\n",
       "       [48.00799148],\n",
       "       [44.99922172],\n",
       "       [52.01296586],\n",
       "       [33.93011348],\n",
       "       [29.89058614],\n",
       "       [64.97610341],\n",
       "       [99.47374049],\n",
       "       [66.96323373],\n",
       "       [98.49625206],\n",
       "       [44.99922172],\n",
       "       [86.72895845],\n",
       "       [72.91310704],\n",
       "       [ 8.55709329],\n",
       "       [80.81939692],\n",
       "       [71.92266124],\n",
       "       [80.81939692],\n",
       "       [58.00603037],\n",
       "       [92.62124349],\n",
       "       [81.8055236 ],\n",
       "       [65.96990852],\n",
       "       [96.53983548]])"
      ]
     },
     "execution_count": 18,
     "metadata": {},
     "output_type": "execute_result"
    }
   ],
   "source": [
    "predicted_value"
   ]
  },
  {
   "cell_type": "markdown",
   "metadata": {},
   "source": [
    "## Visualizing Model Performance"
   ]
  },
  {
   "cell_type": "code",
   "execution_count": 19,
   "metadata": {},
   "outputs": [
    {
     "data": {
      "image/png": "[encoded data removed]",
      "text/plain": [
       "<Figure size 432x288 with 1 Axes>"
      ]
     },
     "metadata": {
      "needs_background": "light"
     },
     "output_type": "display_data"
    }
   ],
   "source": [
    "plt.figure()\n",
    "plt.plot(test_input_poly,test_output,'+',color=\"green\")\n",
    "plt.plot(test_input_poly,predicted_value,'^',color=\"blue\")\n",
    "plt.title(\"Polynomial Regession\")\n",
    "plt.xlabel(\"Input\")\n",
    "plt.ylabel(\"Output\")\n",
    "plt.show()"
   ]
  },
  {
   "cell_type": "code",
   "execution_count": 20,
   "metadata": {},
   "outputs": [
    {
     "data": {
      "text/plain": [
       "8.063337564451183"
      ]
     },
     "execution_count": 20,
     "metadata": {},
     "output_type": "execute_result"
    }
   ],
   "source": [
    "from sklearn.metrics import mean_squared_error\n",
    "\n",
    "error=mean_squared_error(predicted_value,test_output)\n",
    "error"
   ]
  },
  {
   "cell_type": "code",
   "execution_count": 21,
   "metadata": {},
   "outputs": [
    {
     "name": "stdout",
     "output_type": "stream",
     "text": [
      "Accuracy : 91.93666243554881%\n"
     ]
    }
   ],
   "source": [
    "print(\"Accuracy : \"+str(100 - error)+\"%\")"
   ]
  }
 ],
 "metadata": {
  "kernelspec": {
   "display_name": "Python 3",
   "language": "python",
   "name": "python3"
  },
  "language_info": {
   "codemirror_mode": {
    "name": "ipython",
    "version": 3
   },
   "file_extension": ".py",
   "mimetype": "text/x-python",
   "name": "python",
   "nbconvert_exporter": "python",
   "pygments_lexer": "ipython3",
   "version": "3.8.3"
  }
 },
 "nbformat": 4,
 "nbformat_minor": 4
}
